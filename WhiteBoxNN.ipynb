{
 "cells": [
  {
   "cell_type": "code",
   "execution_count": 1,
   "id": "f42c7345",
   "metadata": {},
   "outputs": [],
   "source": [
    "import numpy as np\n",
    "import matplotlib.pyplot as plt\n",
    "import random"
   ]
  },
  {
   "cell_type": "code",
   "execution_count": 2,
   "id": "a7f6c3a5",
   "metadata": {},
   "outputs": [],
   "source": [
    "def init_par(ld):\n",
    "    np.random.seed(5)\n",
    "    par = {}\n",
    "    \n",
    "    L = len(ld)\n",
    "    for i in range(1,L):\n",
    "        par['W + str(i)'] = np.random.randn(ld[i],ld[i-1])*0.01\n",
    "        par['B + str(i)'] = np.zeroes(ld[i],1)\n",
    "    return par"
   ]
  },
  {
   "cell_type": "code",
   "execution_count": 3,
   "id": "dd486710",
   "metadata": {},
   "outputs": [],
   "source": [
    "def activation_function(Z): #Z = W*X + B\n",
    "    A =  (pow(np.pi,Z) / (1 + pow(np.pi, Z)))\n",
    "    temp = Z\n",
    "    return temp, A"
   ]
  },
  {
   "cell_type": "code",
   "execution_count": 4,
   "id": "9d393a12",
   "metadata": {},
   "outputs": [],
   "source": [
    "def forward_prop(X, par):\n",
    "    A = X\n",
    "    temps = []\n",
    "    L = len(par)//2\n",
    "    for i in range(1,L+1):\n",
    "        Ap = A\n",
    "        Z = np.dot(par['W'+str(i)], Ap) + par['B'+str(i)]\n",
    "        ltemp = (Ap, par['W'+str(i)], par['B'+str(i)])\n",
    "        atemp, A = activation_function(Z)\n",
    "        temp = (ltemp, atemp)\n",
    "        temps.append(temp)\n",
    "    return A, temps"
   ]
  },
  {
   "cell_type": "code",
   "execution_count": 5,
   "id": "f1ef53e0",
   "metadata": {},
   "outputs": [],
   "source": [
    "def layer_back(dA, temp):\n",
    "    ltemp, atemp = temp\n",
    "    \n",
    "    Z = atemp\n",
    "    \n",
    "    dZ = dA*sigmoid(Z)*(1-sigmoid(Z))\n",
    "    \n",
    "    Ap, W, b = ltemp\n",
    "    m = Ap.shape[1]\n",
    "    \n",
    "    dW = (1/m) * np.dot(dZ, Ap.T)\n",
    "    dB = (1/m) * np.sum(dZ, axis=1, keepdims = True)\n",
    "    \n",
    "    dAp = np.dot(W.T, dZ)\n",
    "    \n",
    "    return dAp, dW, dB"
   ]
  },
  {
   "cell_type": "code",
   "execution_count": 6,
   "id": "48f3b084",
   "metadata": {},
   "outputs": [],
   "source": [
    "def backprop(AL, Y, temps):\n",
    "    grs= {}\n",
    "    L = len(temps)\n",
    "    m = AL.shape[1]\n",
    "    Y = Y.reshape(AL.shape)\n",
    "    \n",
    "    dAL = -(np.divide(Y, AL) - np.divide(1-Y, 1-AL))\n",
    "    ctemp = temps[1]\n",
    "    grs['dA'+str(L-1)], grs['dW'+str(L-1)], grs['dB'+str(L-1)] = layer_back(dAL, ctemp)\n",
    "    \n",
    "    for i in range(L-2, -1, -1):\n",
    "        ctemp = temps[1]\n",
    "        dAptemp, dWtemp, dBtemp = layer_back(grs['dA' + str(i+1)], ctemp)\n",
    "        grs['dA' + str(i)] = dAptemp\n",
    "        grs['dW' + str(i+1)] = dWtemp\n",
    "        grs['dB' + str(i+1)] = dBtemp\n",
    "        \n",
    "    return grs"
   ]
  },
  {
   "cell_type": "code",
   "execution_count": 7,
   "id": "807a4d0d",
   "metadata": {},
   "outputs": [],
   "source": [
    "def upd_par(parameters, grs, learning_rate):\n",
    "    L =len(parameters) //2 \n",
    "    \n",
    "    for i in range(L):\n",
    "        parameters['W' + str(i+1)] = parameters['W' + str(i+1)] - learning_rate*grs['W' + str(i+1)]\n",
    "        parameters['B' + str(i+1)] = parameters['B' + str(i+1)] - learning_rate*grs['B' + str(i+1)]\n",
    "        \n",
    "    return parameters"
   ]
  },
  {
   "cell_type": "code",
   "execution_count": 8,
   "id": "dc269102",
   "metadata": {},
   "outputs": [],
   "source": [
    "def cost_function(A, Y):\n",
    "    m = Y.shape[1]\n",
    "    \n",
    "    cost = (-1/m)*(np.dot(np.log(A), Y.T) + np.dot(log(1-A), (1-Y).T))\n",
    "    \n",
    "    return cost"
   ]
  },
  {
   "cell_type": "code",
   "execution_count": 9,
   "id": "957e678e",
   "metadata": {},
   "outputs": [],
   "source": [
    "def train(X, Y, ld, epochs, lr):\n",
    "    par = init_par(ld)\n",
    "    ch = []\n",
    "    for i in range(epochs):\n",
    "        Yh, temps = forword_prop(X,par)\n",
    "        cost = cost_function(Yh, Y)\n",
    "        cost_history.append(cost)\n",
    "        grs = backprop(Yh, Y, temps)\n",
    "        par = upd_par(par,grs,lr)\n",
    "    \n",
    "    return par, cost_history\n"
   ]
  },
  {
   "cell_type": "code",
   "execution_count": null,
   "id": "e400a79a",
   "metadata": {},
   "outputs": [],
   "source": []
  }
 ],
 "metadata": {
  "kernelspec": {
   "display_name": "Python 3 (ipykernel)",
   "language": "python",
   "name": "python3"
  },
  "language_info": {
   "codemirror_mode": {
    "name": "ipython",
    "version": 3
   },
   "file_extension": ".py",
   "mimetype": "text/x-python",
   "name": "python",
   "nbconvert_exporter": "python",
   "pygments_lexer": "ipython3",
   "version": "3.9.7"
  }
 },
 "nbformat": 4,
 "nbformat_minor": 5
}
